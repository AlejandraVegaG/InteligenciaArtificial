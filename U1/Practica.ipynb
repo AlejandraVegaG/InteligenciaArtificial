{
  "nbformat": 4,
  "nbformat_minor": 0,
  "metadata": {
    "colab": {
      "provenance": [],
      "authorship_tag": "ABX9TyNwW/80PpUXwWmc0+ww812u"
    },
    "kernelspec": {
      "name": "python3",
      "display_name": "Python 3"
    },
    "language_info": {
      "name": "python"
    }
  },
  "cells": [
    {
      "cell_type": "code",
      "execution_count": null,
      "metadata": {
        "colab": {
          "base_uri": "https://localhost:8080/",
          "height": 36
        },
        "id": "hdlLOuaxhVog",
        "outputId": "16547c26-47c9-4fc5-9fb2-83cea6030fa0"
      },
      "outputs": [
        {
          "output_type": "execute_result",
          "data": {
            "text/plain": [
              "'\\n  Hecho por Ale ~\\n'"
            ],
            "application/vnd.google.colaboratory.intrinsic+json": {
              "type": "string"
            }
          },
          "metadata": {},
          "execution_count": 1
        }
      ],
      "source": [
        "#Practica 1\n",
        "\"\"\"\n",
        "  Hecho por Ale ~\n",
        "\"\"\""
      ]
    },
    {
      "cell_type": "code",
      "source": [
        "nombre=\"Ale\"\n",
        "inicial=\"A\"\n",
        "\n",
        "condicionV =True\n",
        "condicionF =False\n",
        "\n",
        "arreglo = [2,3,3,5,6]\n",
        "arregloMix = [2,\"cadena\",3,'c',6]\n",
        "matriz = [[2,1], [1,2],[3,2]]\n"
      ],
      "metadata": {
        "id": "QloMa86jhy5m"
      },
      "execution_count": null,
      "outputs": []
    },
    {
      "cell_type": "code",
      "source": [
        "arregloXmatriz = [2,\"cadena\",arreglo,'c',condicionV]"
      ],
      "metadata": {
        "id": "yCN861ZbjAVW"
      },
      "execution_count": null,
      "outputs": []
    },
    {
      "cell_type": "code",
      "source": [
        "#imprimir saludo\n",
        "print(\"Holi, \"+nombre)"
      ],
      "metadata": {
        "colab": {
          "base_uri": "https://localhost:8080/"
        },
        "id": "XMLEcHQ9jUk-",
        "outputId": "e8c544b6-e1da-4c1b-ca79-bd24a70cd95c"
      },
      "execution_count": null,
      "outputs": [
        {
          "output_type": "stream",
          "name": "stdout",
          "text": [
            "Holi, Ale\n"
          ]
        }
      ]
    },
    {
      "cell_type": "code",
      "source": [
        "print(arregloMix)"
      ],
      "metadata": {
        "colab": {
          "base_uri": "https://localhost:8080/"
        },
        "id": "q7STVPVgjgY-",
        "outputId": "25116489-f759-4e4c-bbad-8ce1f30f501f"
      },
      "execution_count": null,
      "outputs": [
        {
          "output_type": "stream",
          "name": "stdout",
          "text": [
            "[2, 'cadena', 3, 'c', 6]\n"
          ]
        }
      ]
    },
    {
      "cell_type": "code",
      "source": [
        "num = 12\n",
        "decimal = .21"
      ],
      "metadata": {
        "id": "rdveA6ioj4i-"
      },
      "execution_count": null,
      "outputs": []
    },
    {
      "cell_type": "code",
      "source": [
        "print(num+decimal+1)"
      ],
      "metadata": {
        "colab": {
          "base_uri": "https://localhost:8080/"
        },
        "id": "c5cPu7nnj9fe",
        "outputId": "c6004761-0e21-4b40-b5a6-5f809d521c18"
      },
      "execution_count": null,
      "outputs": [
        {
          "output_type": "stream",
          "name": "stdout",
          "text": [
            "13.21\n"
          ]
        }
      ]
    },
    {
      "cell_type": "code",
      "source": [
        "print(arreglo[0])\n",
        "print(arreglo[0]+1)"
      ],
      "metadata": {
        "colab": {
          "base_uri": "https://localhost:8080/"
        },
        "id": "U0ZIV5_RkFpd",
        "outputId": "2fc38d58-739e-49dc-dd78-36ce80bd85a0"
      },
      "execution_count": null,
      "outputs": [
        {
          "output_type": "stream",
          "name": "stdout",
          "text": [
            "2\n",
            "3\n"
          ]
        }
      ]
    }
  ]
}