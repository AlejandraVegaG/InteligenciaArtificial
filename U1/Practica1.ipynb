{
  "nbformat": 4,
  "nbformat_minor": 0,
  "metadata": {
    "colab": {
      "provenance": [],
      "authorship_tag": "ABX9TyNwW/80PpUXwWmc0+ww812u"
    },
    "kernelspec": {
      "name": "python3",
      "display_name": "Python 3"
    },
    "language_info": {
      "name": "python"
    }
  },
  "cells": [
    {
      "cell_type": "code",
      "execution_count": null,
      "metadata": {
        "colab": {
          "base_uri": "https://localhost:8080/",
          "height": 35
        },
        "id": "hdlLOuaxhVog",
        "outputId": "bcc45e92-5ca8-4566-a375-65b77451e799"
      },
      "outputs": [
        {
          "output_type": "execute_result",
          "data": {
            "text/plain": [
              "'\\n  Hecho por Ale ~\\n'"
            ],
            "application/vnd.google.colaboratory.intrinsic+json": {
              "type": "string"
            }
          },
          "metadata": {},
          "execution_count": 3
        }
      ],
      "source": [
        "#Practica 1\n",
        "\"\"\"\n",
        "  Hecho por Ale ~\n",
        "\"\"\""
      ]
    },
    {
      "cell_type": "code",
      "source": [
        "nombre=\"Ale\"\n",
        "inicial=\"A\"\n",
        "\n",
        "condicionV =True\n",
        "condicionF =False\n",
        "\n",
        "arreglo = [2,3,3,5,6]\n",
        "arregloMix = [2,\"cadena\",3,'c',6]\n",
        "matriz = [[2,1], [1,2],[3,2]]\n"
      ],
      "metadata": {
        "id": "QloMa86jhy5m"
      },
      "execution_count": null,
      "outputs": []
    },
    {
      "cell_type": "code",
      "source": [
        "arregloXmatriz = [2,\"cadena\",arreglo,'c',condicionV]"
      ],
      "metadata": {
        "id": "yCN861ZbjAVW"
      },
      "execution_count": null,
      "outputs": []
    },
    {
      "cell_type": "code",
      "source": [
        "#imprimir saludo\n",
        "print(\"Holi, \"+nombre)"
      ],
      "metadata": {
        "colab": {
          "base_uri": "https://localhost:8080/"
        },
        "id": "XMLEcHQ9jUk-",
        "outputId": "2a61278b-68f2-432c-decc-b2265b7dc3ac"
      },
      "execution_count": null,
      "outputs": [
        {
          "output_type": "stream",
          "name": "stdout",
          "text": [
            "Holi, Ale\n"
          ]
        }
      ]
    },
    {
      "cell_type": "code",
      "source": [
        "print(arregloMix)"
      ],
      "metadata": {
        "colab": {
          "base_uri": "https://localhost:8080/"
        },
        "id": "q7STVPVgjgY-",
        "outputId": "2c6497a8-08f9-4f2a-af1e-9134091bc276"
      },
      "execution_count": null,
      "outputs": [
        {
          "output_type": "stream",
          "name": "stdout",
          "text": [
            "[2, 'cadena', 3, 'c', 6]\n"
          ]
        }
      ]
    },
    {
      "cell_type": "code",
      "source": [
        "num = 12\n",
        "decimal = .21"
      ],
      "metadata": {
        "id": "rdveA6ioj4i-"
      },
      "execution_count": null,
      "outputs": []
    },
    {
      "cell_type": "code",
      "source": [
        "print(num+decimal+1)"
      ],
      "metadata": {
        "colab": {
          "base_uri": "https://localhost:8080/"
        },
        "id": "c5cPu7nnj9fe",
        "outputId": "b4594898-2b32-4f9e-b0ec-37a4582ed1bc"
      },
      "execution_count": null,
      "outputs": [
        {
          "output_type": "stream",
          "name": "stdout",
          "text": [
            "13.21\n"
          ]
        }
      ]
    },
    {
      "cell_type": "code",
      "source": [
        "print(arreglo[0])\n",
        "print(arreglo[0]+1)"
      ],
      "metadata": {
        "colab": {
          "base_uri": "https://localhost:8080/"
        },
        "id": "U0ZIV5_RkFpd",
        "outputId": "cc85c337-b6e1-4637-b265-173a1adfe323"
      },
      "execution_count": null,
      "outputs": [
        {
          "output_type": "stream",
          "name": "stdout",
          "text": [
            "2\n",
            "3\n"
          ]
        }
      ]
    }
  ]
}